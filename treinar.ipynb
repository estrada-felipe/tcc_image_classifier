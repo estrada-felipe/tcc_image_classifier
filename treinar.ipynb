{
 "cells": [
  {
   "cell_type": "markdown",
   "metadata": {},
   "source": [
    "***Importar Funções***"
   ]
  },
  {
   "cell_type": "code",
   "execution_count": null,
   "metadata": {},
   "outputs": [],
   "source": [
    "from src.utils_dataset import analyze_label_distribution\n",
    "from src.dataset_gen_load import rodar_dataset_torch\n",
    "from src.utils_plot import plot_images_from_dataset, plot_single_metric, plot_dual_metric\n",
    "from src.utils_model import load_history, listar_modelos, print_history_values, avaliar_modelo_no_teste, carregar_modelo_mais_recente, print_last_history_values\n",
    "import torch\n",
    "import matplotlib.pyplot as plt\n",
    "import numpy as np\n",
    "import seaborn as sns\n",
    "from sklearn.metrics import confusion_matrix\n",
    "\n",
    "from src.gen_models import ModelFactory_Tiny\n",
    "import os"
   ]
  },
  {
   "cell_type": "markdown",
   "metadata": {},
   "source": [
    "***Load Dataset***"
   ]
  },
  {
   "cell_type": "code",
   "execution_count": null,
   "metadata": {},
   "outputs": [],
   "source": [
    "BATCH_SIZE = 32\n",
    "IMAGE_SIZE_H, IMAGE_SIZE_W = 96,96\n",
    "CHANNELS = 3\n",
    "input_shape = (IMAGE_SIZE_H, IMAGE_SIZE_W, CHANNELS)\n",
    "# train_ds, val_ds, test_ds = rodar_dataset_torch(input_shape, BATCH_SIZE)"
   ]
  },
  {
   "cell_type": "markdown",
   "metadata": {},
   "source": [
    "***Verificar Distribuição em Partições***"
   ]
  },
  {
   "cell_type": "code",
   "execution_count": null,
   "metadata": {},
   "outputs": [],
   "source": [
    "# analyze_label_distribution(train_ds)\n",
    "# analyze_label_distribution(val_ds)\n",
    "# analyze_label_distribution(test_ds)"
   ]
  },
  {
   "cell_type": "markdown",
   "metadata": {},
   "source": [
    "***Carregar modelos e historicos gerados***"
   ]
  },
  {
   "cell_type": "markdown",
   "metadata": {},
   "source": [
    "*2 Classes*"
   ]
  },
  {
   "cell_type": "code",
   "execution_count": null,
   "metadata": {},
   "outputs": [],
   "source": [
    "# Listar modelos disponíveis\n",
    "train_ds2, val_ds2, test_ds2 = rodar_dataset_torch(input_shape, BATCH_SIZE, caminho_base =os.path.join('2_Classes','datasets_utilizados'))\n",
    "modelos2 = listar_modelos(os.path.join('2_Classes','modelos'))\n",
    "# modelos = listar_modelos(os.path.join('modelos'))\n",
    "\n",
    "histories2 = {}\n",
    "modelos_carregados2 = {}\n",
    "\n",
    "for modl in modelos2:\n",
    "    print(f\"\\n🔄 Processando modelo: {modl}\")\n",
    "    try:\n",
    "        # Carregar histórico\n",
    "        histories2[modl] = load_history('2_Classes', modl)\n",
    "        print(f\"✅ Histórico carregado para {modl}\")\n",
    "    except Exception as e:\n",
    "        print(f\"⚠️ Erro ao carregar histórico para {modl}: {e}\")\n",
    "        histories2[modl] = None\n",
    "\n",
    "    try:\n",
    "        # Carregar modelo mais recente\n",
    "        modelo2, otimizador2, config2 = carregar_modelo_mais_recente(modl, modelo_dir = os.path.join('2_Classes',\"modelos\", modl), classe='2_Classes')\n",
    "        modelos_carregados2[modl] = {\n",
    "            'historico': histories2[modl],\n",
    "            'modelo': modelo2,\n",
    "            'otimizador': otimizador2,\n",
    "            'config': config2\n",
    "        }\n",
    "        print(f\"✅ Modelo mais recente carregado para {modl}\")\n",
    "    except Exception as e:\n",
    "        print(f\"⚠️ Erro ao carregar o modelo: {e}\")\n",
    "        modelos_carregados2[modl] = {\n",
    "            'historico': histories2[modl],\n",
    "            'modelo': modelo2,\n",
    "            'otimizador': otimizador2,\n",
    "            'config': config2\n",
    "        }\n",
    "\n",
    "\n"
   ]
  },
  {
   "cell_type": "markdown",
   "metadata": {},
   "source": [
    "*4 Classes*"
   ]
  },
  {
   "cell_type": "code",
   "execution_count": null,
   "metadata": {},
   "outputs": [],
   "source": [
    "# Listar modelos disponíveis\n",
    "# train_ds, val_ds, test_ds = rodar_dataset_torch(input_shape, BATCH_SIZE, caminho_base =os.path.join('datasets_utilizados'))\n",
    "# modelos = listar_modelos(os.path.join('modelos'))\n",
    "\n",
    "train_ds, val_ds, test_ds = rodar_dataset_torch(input_shape, BATCH_SIZE, caminho_base =os.path.join('4_Classes','datasets_utilizados'))\n",
    "modelos = listar_modelos(os.path.join('4_Classes','modelos'))\n",
    "\n",
    "histories = {}\n",
    "modelos_carregados = {}\n",
    "\n",
    "\n",
    "\n",
    "for modl in modelos:\n",
    "    print(f\"\\n🔄 Processando modelo: {modl}\")\n",
    "    try:\n",
    "        # Carregar histórico\n",
    "        histories[modl] = load_history('4_Classes', modl)\n",
    "        print(f\"✅ Histórico carregado para {modl}\")\n",
    "    except Exception as e:\n",
    "        print(f\"⚠️ Erro ao carregar histórico para {modl}: {e}\")\n",
    "        histories[modl] = None\n",
    "\n",
    "        \n",
    "\n",
    "    try:\n",
    "        # Carregar modelo mais recente\n",
    "        modelo_dir = os.path.join('4_Classes',\"modelos\", modl)\n",
    "        modelo, otimizador, config = carregar_modelo_mais_recente(modelo_nome = modl, modelo_dir = modelo_dir)\n",
    "        \n",
    "        modelos_carregados[modl] = {\n",
    "            'historico': histories[modl],\n",
    "            'modelo': modelo,\n",
    "            'otimizador': otimizador,\n",
    "            'config': config\n",
    "        }\n",
    "        print(f\"✅ Modelo mais recente carregado para {modl}\")\n",
    "    except Exception as e:\n",
    "        print(f\"⚠️ Erro ao carregar o modelo: {e}\")\n",
    "        modelos_carregados[modl] = {\n",
    "            'historico': histories[modl],\n",
    "            'modelo': modelo,\n",
    "            'otimizador': otimizador,\n",
    "            'config': config\n",
    "        }\n",
    "\n",
    "\n"
   ]
  },
  {
   "cell_type": "markdown",
   "metadata": {},
   "source": [
    "***Verificar Histórico de Treinamento***"
   ]
  },
  {
   "cell_type": "code",
   "execution_count": null,
   "metadata": {},
   "outputs": [],
   "source": [
    "for modl in modelos2:\n",
    "    print_history_values(modelos_carregados2[modl]['historico'], modl)\n",
    "\n",
    "for modl in modelos:\n",
    "    print_history_values(modelos_carregados[modl]['historico'], modl)"
   ]
  },
  {
   "cell_type": "code",
   "execution_count": null,
   "metadata": {},
   "outputs": [],
   "source": [
    "# Para modelos de 2 classes\n",
    "for modl in modelos2:\n",
    "    print_last_history_values(modelos_carregados2[modl]['historico'], modl)\n",
    "\n",
    "# Para modelos de 4 classes\n",
    "for modl in modelos:\n",
    "    print_last_history_values(modelos_carregados[modl]['historico'], modl)"
   ]
  },
  {
   "cell_type": "markdown",
   "metadata": {},
   "source": [
    "***Plotar Gráficos Treinamento e Validação***"
   ]
  },
  {
   "cell_type": "code",
   "execution_count": null,
   "metadata": {},
   "outputs": [],
   "source": [
    "# plot_single_metric(2, histories2, 'train_accuracy', 'Precisão no Treinamento por Epoca', 'Precisão')\n",
    "plot_single_metric(2, histories2, 'val_accuracy', 'Precisão na Validação por Epoca', 'Precisão')\n",
    "# plot_single_metric(2, histories2, 'train_loss', 'Perda no Treinamento por Epoca', 'Perda')\n",
    "plot_single_metric(2, histories2, 'val_loss', 'Perda na Validação por Epoca', 'Perda')\n",
    "# plot_dual_metric(histories2, 'train_accuracy', 'train_loss', 'Precisão e Perda no Treinamento por Epoca', 'Precisão', 'Perda')\n",
    "# plot_dual_metric(histories2, 'val_accuracy', 'val_loss', 'Precisão e Perda na Validação por Epoca', 'Precisão', 'Perda')"
   ]
  },
  {
   "cell_type": "code",
   "execution_count": null,
   "metadata": {},
   "outputs": [],
   "source": [
    "# plot_single_metric('miltiplo', histories, 'train_accuracy', 'Precisão no Treinamento por Epoca', 'Precisão')\n",
    "plot_single_metric('miltiplo', histories, 'val_accuracy', 'Precisão na Validação por Epoca', 'Precisão')\n",
    "# plot_single_metric('miltiplo', histories, 'train_loss', 'Perda no Treinamento por Epoca', 'Perda')\n",
    "plot_single_metric('miltiplo', histories, 'val_loss', 'Perda na Validação por Epoca', 'Perda')\n",
    "# plot_dual_metric(histories2, 'train_accuracy', 'train_loss', 'Precisão e Perda no Treinamento por Epoca', 'Precisão', 'Perda')\n",
    "# plot_dual_metric(histories2, 'val_accuracy', 'val_loss', 'Precisão e Perda na Validação por Epoca', 'Precisão', 'Perda')"
   ]
  },
  {
   "cell_type": "markdown",
   "metadata": {},
   "source": [
    "***Teste de Rede Neual Final***"
   ]
  },
  {
   "cell_type": "code",
   "execution_count": null,
   "metadata": {},
   "outputs": [],
   "source": [
    "print('2 Classes')\n",
    "selected_classes2 = ['1_normal', '2_cataract']\n",
    "for modl in modelos2:\n",
    "    if modelo2:\n",
    "        avaliar_modelo_no_teste(modelos_carregados2[modl]['modelo'], test_ds2, modl, selected_classes2, plot_conf=False)\n",
    "\n",
    "\n",
    "selected_classes4 = ['1_normal', '2_cataract','2_glaucoma', '3_retina_disease']\n",
    "print('4 Classes')\n",
    "for modl in modelos:\n",
    "    if modelo:\n",
    "        avaliar_modelo_no_teste(modelos_carregados[modl]['modelo'], test_ds, modl, selected_classes4, plot_conf=False)"
   ]
  },
  {
   "cell_type": "markdown",
   "metadata": {},
   "source": [
    "Plot Matrizes confusão"
   ]
  },
  {
   "cell_type": "code",
   "execution_count": null,
   "metadata": {},
   "outputs": [],
   "source": [
    "def plot_multiple_confusion_matrices(models_dict, test_ds, class_names, num_columns=2):\n",
    "    device = torch.device(\"cuda\" if torch.cuda.is_available() else \"cpu\")\n",
    "    \n",
    "    unique_matrices = {}  # Para armazenar matrizes únicas e os modelos correspondentes\n",
    "    correct_size = len(class_names)  # Número esperado de classes\n",
    "\n",
    "    for model_name, model in models_dict.items():\n",
    "        model.eval()\n",
    "        all_labels, all_preds = [], []\n",
    "\n",
    "        with torch.no_grad():\n",
    "            for images, labels in test_ds:\n",
    "                images, labels = images.to(device), labels.to(device)\n",
    "                outputs = model(images)\n",
    "                _, predicted = torch.max(outputs.data, 1)\n",
    "                \n",
    "                all_labels.extend(labels.cpu().numpy())\n",
    "                all_preds.extend(predicted.cpu().numpy())\n",
    "\n",
    "        conf_matrix = confusion_matrix(all_labels, all_preds)\n",
    "\n",
    "        # Verificar se a matriz tem o tamanho correto\n",
    "        if conf_matrix.shape[0] != correct_size:\n",
    "            print(f\"⚠️ Modelo {model_name} ignorado (matriz de confusão {conf_matrix.shape[0]}x{conf_matrix.shape[1]}, esperado {correct_size}x{correct_size})\")\n",
    "            continue  # Ignora modelos com número incorreto de classes\n",
    "\n",
    "        # Converter matriz em uma forma que permita identificação única\n",
    "        conf_matrix_tuple = tuple(map(tuple, conf_matrix))\n",
    "\n",
    "        if conf_matrix_tuple in unique_matrices:\n",
    "            unique_matrices[conf_matrix_tuple].append(model_name)\n",
    "        else:\n",
    "            unique_matrices[conf_matrix_tuple] = [model_name]\n",
    "\n",
    "    num_plots = len(unique_matrices)\n",
    "    num_rows = (num_plots + num_columns - 1) // num_columns  # Calcula número de linhas necessárias\n",
    "\n",
    "    fig, axes = plt.subplots(num_rows, num_columns, figsize=(5 * num_columns, 5 * num_rows), constrained_layout=True)\n",
    "\n",
    "    # Garantir que 'axes' seja uma matriz 2D, mesmo com um único gráfico\n",
    "    axes = np.array(axes).reshape(num_rows, num_columns)\n",
    "\n",
    "    # Converter tuplas de volta para arrays NumPy\n",
    "    all_matrices = [np.array(conf_matrix_tuple) for conf_matrix_tuple in unique_matrices.keys()]\n",
    "    \n",
    "    # **Correção: calcular `vmin` e `vmax` corretamente**\n",
    "    vmin = min(matrix.min() for matrix in all_matrices)\n",
    "    vmax = max(matrix.max() for matrix in all_matrices)\n",
    "\n",
    "    for ax, (conf_matrix_tuple, model_names) in zip(axes.flatten(), unique_matrices.items()):\n",
    "        conf_matrix = np.array(conf_matrix_tuple)\n",
    "\n",
    "        sns.heatmap(conf_matrix, annot=True, fmt=\"d\", cmap=\"Blues\",\n",
    "                    xticklabels=class_names, yticklabels=class_names, ax=ax,\n",
    "                    vmin=vmin, vmax=vmax, cbar=False, annot_kws={\"size\": 20})  # ❌ Remove a barra lateral de cores\n",
    "\n",
    "        ax.set_xlabel(\"Predito\", fontsize=14)\n",
    "        ax.set_ylabel(\"Real\", fontsize=14)\n",
    "        ax.set_title(f\"{', '.join(model_names)}\", fontsize=16, pad=10)\n",
    "\n",
    "        # Melhorar alinhamento das legendas\n",
    "        ax.set_xticklabels(class_names, rotation=45, ha=\"right\", fontsize=15)\n",
    "        ax.set_yticklabels(class_names, rotation=0, fontsize=15)\n",
    "\n",
    "    # Esconder subplots vazios (se houver)\n",
    "    for j in range(len(unique_matrices), len(axes.flatten())):\n",
    "        fig.delaxes(axes.flatten()[j])\n",
    "\n",
    "    plt.show()\n",
    "\n"
   ]
  },
  {
   "cell_type": "code",
   "execution_count": null,
   "metadata": {},
   "outputs": [],
   "source": [
    "models_dict = {\n",
    "\"EfficientNet-B0\":modelos_carregados2['efficientnet'][\"modelo\"],\n",
    "\"ResNet 18\":modelos_carregados2['resnet18'][\"modelo\"],\n",
    "\"ResNet 10\":modelos_carregados2['resnet10'][\"modelo\"],\n",
    "\"ResNet 8\":modelos_carregados2['resnet8'][\"modelo\"],\n",
    "\"ResNet 6\":modelos_carregados2['resnet6'][\"modelo\"],\n",
    "\"CVT\":modelos_carregados2['cvt'][\"modelo\"],\n",
    "\"CCT\":modelos_carregados2['cct'][\"modelo\"],\n",
    "\"ResNet18-ViT\":modelos_carregados2['resnet18vit'][\"modelo\"],\n",
    "\"ResNet10-ViT\":modelos_carregados2['resnet10vit'][\"modelo\"],\n",
    "\"ResNet8-ViT\":modelos_carregados2['resnet8vit'][\"modelo\"],\n",
    "\"ResNet06-ViT\":modelos_carregados2['resnet6vit'][\"modelo\"],\n",
    "}\n",
    "selected_classes2 = ['Normal', 'Catarata']\n",
    "plot_multiple_confusion_matrices(models_dict, test_ds2, selected_classes2, 1)"
   ]
  },
  {
   "cell_type": "code",
   "execution_count": null,
   "metadata": {},
   "outputs": [],
   "source": [
    "# Exemplo de uso:\n",
    "models_dict = {\n",
    "\"EfficientNet-B0\":modelos_carregados['efficientnet'][\"modelo\"],\n",
    "\"ResNet 18\":modelos_carregados['resnet18'][\"modelo\"],\n",
    "\"ResNet 10\":modelos_carregados['resnet10'][\"modelo\"],\n",
    "\"ResNet 8\":modelos_carregados['resnet8'][\"modelo\"],\n",
    "\"ResNet 6\":modelos_carregados['resnet6'][\"modelo\"],\n",
    "\"CVT\":modelos_carregados['cvt'][\"modelo\"],\n",
    "\"CCT\":modelos_carregados['cct'][\"modelo\"],\n",
    "\"ResNet18-ViT\":modelos_carregados['resnet18vit'][\"modelo\"],\n",
    "\"ResNet10-ViT\":modelos_carregados['resnet10vit'][\"modelo\"],\n",
    "\"ResNet8-ViT\":modelos_carregados['resnet8vit'][\"modelo\"],\n",
    "\"ResNet06-ViT\":modelos_carregados['resnet6vit'][\"modelo\"],\n",
    "}\n",
    "\n",
    "\n",
    "selected_classes4 = ['Normal', 'Catarata','Glaucoma', 'Doença Retina']\n",
    "plot_multiple_confusion_matrices(models_dict, test_ds, selected_classes4, 2)"
   ]
  }
 ],
 "metadata": {
  "kernelspec": {
   "display_name": "swin",
   "language": "python",
   "name": "python3"
  },
  "language_info": {
   "codemirror_mode": {
    "name": "ipython",
    "version": 3
   },
   "file_extension": ".py",
   "mimetype": "text/x-python",
   "name": "python",
   "nbconvert_exporter": "python",
   "pygments_lexer": "ipython3",
   "version": "3.7.16"
  }
 },
 "nbformat": 4,
 "nbformat_minor": 2
}
